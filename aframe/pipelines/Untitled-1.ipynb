{
 "cells": [
  {
   "cell_type": "code",
   "execution_count": 7,
   "metadata": {},
   "outputs": [],
   "source": [
    "from pycondor import Job\n",
    "from pathlib import Path\n",
    "from pipelines.tasks.apptainer import CondorApptainerTask\n",
    "import luigi\n",
    "from pipelines.configs import aframe\n",
    "\n",
    "import os\n",
    "from luigi.util import inherits"
   ]
  },
  {
   "cell_type": "code",
   "execution_count": 23,
   "metadata": {},
   "outputs": [],
   "source": [
    "class TaskA(luigi.Task):\n",
    "    a = luigi.Parameter()\n",
    "    d = luigi.Parameter()\n",
    "\n",
    "    def run(self):\n",
    "        self.output().open('w').close()\n",
    "    \n",
    "   \n",
    "    def output(self):\n",
    "        return luigi.LocalTarget('/tmp/log-{t.param_a}'.format(t=self))\n",
    "\n",
    "@inherits(TaskA)\n",
    "class TaskB(luigi.Task):\n",
    "    a = luigi.Parameter()\n",
    "    b = luigi.Parameter()\n",
    "    c = luigi.Parameter()\n",
    "\n",
    "    def requires(self):\n",
    "        return self.clone(TaskA)\n",
    "    \n",
    "    def run(self):\n",
    "        print('TaskA', self.a, self.b, self.c, self.d)\n"
   ]
  },
  {
   "cell_type": "code",
   "execution_count": 24,
   "metadata": {},
   "outputs": [
    {
     "name": "stderr",
     "output_type": "stream",
     "text": [
      "DEBUG: Checking if TaskA(d=d, a=a, b=b, c=c) is complete\n",
      "/home/ethan.marx/miniconda3/envs/pipelines-SBbPrTUj-py3.9/lib/python3.9/site-packages/luigi/worker.py:419: UserWarning: Task TaskA(d=d, a=a, b=b, c=c) without outputs has no custom complete() method\n",
      "  is_complete = task.complete()\n",
      "DEBUG: Checking if TaskB(a=a, d=d) is complete\n",
      "/home/ethan.marx/miniconda3/envs/pipelines-SBbPrTUj-py3.9/lib/python3.9/site-packages/luigi/worker.py:419: UserWarning: Task TaskB(a=a, d=d) without outputs has no custom complete() method\n",
      "  is_complete = task.complete()\n",
      "INFO: Informed scheduler that task   TaskA_a_b_c_1b91662a0f   has status   PENDING\n",
      "INFO: Informed scheduler that task   TaskB_a_d_fd5abb946c   has status   PENDING\n",
      "INFO: Done scheduling tasks\n",
      "INFO: Running Worker with 1 processes\n",
      "DEBUG: Asking scheduler for work...\n",
      "DEBUG: Pending tasks: 2\n",
      "INFO: [pid 32686] Worker Worker(salt=2670283623, workers=1, host=ldas-pcdev5, username=ethan.marx, pid=32686) running   TaskB(a=a, d=d)\n",
      "INFO: [pid 32686] Worker Worker(salt=2670283623, workers=1, host=ldas-pcdev5, username=ethan.marx, pid=32686) done      TaskB(a=a, d=d)\n",
      "DEBUG: 1 running tasks, waiting for next task to finish\n",
      "INFO: Informed scheduler that task   TaskB_a_d_fd5abb946c   has status   DONE\n",
      "DEBUG: Asking scheduler for work...\n",
      "DEBUG: Pending tasks: 1\n",
      "INFO: [pid 32686] Worker Worker(salt=2670283623, workers=1, host=ldas-pcdev5, username=ethan.marx, pid=32686) running   TaskA(d=d, a=a, b=b, c=c)\n",
      "ERROR: [pid 32686] Worker Worker(salt=2670283623, workers=1, host=ldas-pcdev5, username=ethan.marx, pid=32686) failed    TaskA(d=d, a=a, b=b, c=c)\n",
      "Traceback (most recent call last):\n",
      "  File \"/home/ethan.marx/miniconda3/envs/pipelines-SBbPrTUj-py3.9/lib/python3.9/site-packages/luigi/worker.py\", line 188, in run\n",
      "    raise RuntimeError('Unfulfilled %s at run time: %s' % (deps, ', '.join(missing)))\n",
      "RuntimeError: Unfulfilled dependency at run time: TaskB_a_d_fd5abb946c\n",
      "DEBUG: 1 running tasks, waiting for next task to finish\n",
      "INFO: Informed scheduler that task   TaskA_a_b_c_1b91662a0f   has status   FAILED\n",
      "DEBUG: Checking if TaskA(d=d, a=a, b=b, c=c) is complete\n",
      "DEBUG: Checking if TaskB(a=a, d=d) is complete\n",
      "INFO: Informed scheduler that task   TaskA_a_b_c_1b91662a0f   has status   PENDING\n",
      "INFO: Informed scheduler that task   TaskB_a_d_fd5abb946c   has status   PENDING\n",
      "DEBUG: Asking scheduler for work...\n",
      "DEBUG: Pending tasks: 1\n",
      "INFO: [pid 32686] Worker Worker(salt=2670283623, workers=1, host=ldas-pcdev5, username=ethan.marx, pid=32686) running   TaskA(d=d, a=a, b=b, c=c)\n",
      "ERROR: [pid 32686] Worker Worker(salt=2670283623, workers=1, host=ldas-pcdev5, username=ethan.marx, pid=32686) failed    TaskA(d=d, a=a, b=b, c=c)\n",
      "Traceback (most recent call last):\n",
      "  File \"/home/ethan.marx/miniconda3/envs/pipelines-SBbPrTUj-py3.9/lib/python3.9/site-packages/luigi/worker.py\", line 188, in run\n",
      "    raise RuntimeError('Unfulfilled %s at run time: %s' % (deps, ', '.join(missing)))\n",
      "RuntimeError: Unfulfilled dependency at run time: TaskB_a_d_fd5abb946c\n",
      "DEBUG: 1 running tasks, waiting for next task to finish\n",
      "INFO: Informed scheduler that task   TaskA_a_b_c_1b91662a0f   has status   FAILED\n",
      "DEBUG: Asking scheduler for work...\n",
      "DEBUG: Done\n",
      "DEBUG: There are no more tasks to run at this time\n",
      "DEBUG: There are 1 pending tasks possibly being run by other workers\n",
      "DEBUG: There are 1 pending tasks unique to this worker\n",
      "DEBUG: There are 1 pending tasks last scheduled by this worker\n",
      "INFO: Worker Worker(salt=2670283623, workers=1, host=ldas-pcdev5, username=ethan.marx, pid=32686) was stopped. Shutting down Keep-Alive thread\n",
      "INFO: \n",
      "===== Luigi Execution Summary =====\n",
      "\n",
      "Scheduled 2 tasks of which:\n",
      "* 1 ran successfully:\n",
      "    - 1 TaskB(a=a, d=d)\n",
      "* 1 failed:\n",
      "    - 1 TaskA(d=d, a=a, b=b, c=c)\n",
      "\n",
      "This progress looks :( because there were failed tasks\n",
      "\n",
      "===== Luigi Execution Summary =====\n",
      "\n"
     ]
    },
    {
     "name": "stdout",
     "output_type": "stream",
     "text": [
      "TaskB d a\n"
     ]
    },
    {
     "data": {
      "text/plain": [
       "False"
      ]
     },
     "execution_count": 24,
     "metadata": {},
     "output_type": "execute_result"
    }
   ],
   "source": [
    "task = TaskA(a='a', b='b', c='c', d='d')\n",
    "luigi.build([task], local_scheduler=True)"
   ]
  },
  {
   "cell_type": "code",
   "execution_count": 4,
   "metadata": {},
   "outputs": [],
   "source": [
    "class QueryBackground(CondorApptainerTask):\n",
    "    data_dir = luigi.Parameter(default=os.getenv(\"DATA_DIR\", \"\"))\n",
    "    start = luigi.FloatParameter()\n",
    "    stop = luigi.FloatParameter()\n",
    "    state_flag = luigi.Parameter()\n",
    "    minimum_length = luigi.FloatParameter()\n",
    "    ifos = luigi.ListParameter(default=aframe().ifos)\n",
    "\n",
    "    def __init__(self, *args, **kwargs):\n",
    "        super().__init__(*args, **kwargs)\n",
    "    \n",
    "    @property\n",
    "    def name(self):\n",
    "        return 'query_background'\n",
    "\n",
    "    @property\n",
    "    def queue(self):\n",
    "        return f\"queue start,stop from {self.input()}\"\n",
    "\n",
    "    def requires(self):\n",
    "        Segments(\n",
    "            data_dir=self.data_dir,\n",
    "            start=self.start,\n",
    "            stop=self.stop,\n",
    "            state_flag=self.state_flag,\n",
    "            minimum_length=self.minimum_length,\n",
    "            ifos=self.ifos\n",
    "        )\n",
    "\n",
    "    @property\n",
    "    def command(self):\n",
    "        command = f\"\"\"\n",
    "            python /opt/aframe/aframe/datagen/datagen/background.py\n",
    "                --start $(start)\n",
    "                --stop $(stop)\n",
    "                --state-flag {self.state_flag}\n",
    "                --minimum-length {self.minimum_length}\n",
    "                --ifos {' '.join(self.ifos)}\n",
    "                --data-dir {self.data_dir}\n",
    "        \"\"\"\n",
    "        return command\n",
    "    \n",
    "    @property\n",
    "    def image(self) -> str:\n",
    "        default = os.path.expanduser(\"~/aframe/images\")\n",
    "        root = os.environ.get(\"AFRAME_CONTAINER_ROOT\", default)\n",
    "        return os.path.join(root, \"datagen.sif\")"
   ]
  },
  {
   "cell_type": "code",
   "execution_count": 5,
   "metadata": {},
   "outputs": [],
   "source": [
    "job = QueryBackground(start=0, stop=1, state_flag='H1:DMT-ANALYSIS_READY:1', minimum_length=4, submit_dir = str(Path.cwd()))\n",
    "job.run()"
   ]
  },
  {
   "cell_type": "code",
   "execution_count": 12,
   "metadata": {},
   "outputs": [
    {
     "data": {
      "text/plain": [
       "Job(name=datagen, executable=apptainer, _built=True, args=[JobArg(arg='exec --bind test:test --nv', name=None, retry=None)], error=/home/ethan.marx/public_html/forks/BBHNet/aframe/pipelines/pipelines/tasks, error_file=/home/ethan.marx/public_html/forks/BBHNet/aframe/pipelines/pipelines/tasks/datagen.error, extra_lines=['environment = APPTAINERENV_TEST=5'], log=/home/ethan.marx/public_html/forks/BBHNet/aframe/pipelines/pipelines/tasks, log_file=/home/ethan.marx/public_html/forks/BBHNet/aframe/pipelines/pipelines/tasks/datagen.log, output=/home/ethan.marx/public_html/forks/BBHNet/aframe/pipelines/pipelines/tasks, output_file=/home/ethan.marx/public_html/forks/BBHNet/aframe/pipelines/pipelines/tasks/datagen.output, submit=/home/ethan.marx/public_html/forks/BBHNet/aframe/pipelines/pipelines/tasks, submit_file=/home/ethan.marx/public_html/forks/BBHNet/aframe/pipelines/pipelines/tasks/datagen.submit, submit_name=datagen)"
      ]
     },
     "execution_count": 12,
     "metadata": {},
     "output_type": "execute_result"
    }
   ],
   "source": [
    "submit_dir = str(Path.cwd())\n",
    "job = Job(\n",
    "    name=\"datagen\", \n",
    "    executable=\"/opt/aframe/apptainer\",\n",
    "    submit = submit_dir,\n",
    "    output = submit_dir,\n",
    "    error = submit_dir ,\n",
    "    log = submit_dir,\n",
    "    arguments = [\"exec --bind test:test --nv\"],\n",
    "    extra_lines = [\"environment = APPTAINERENV_TEST=5\"]\n",
    ")\n",
    "job.build(fancyname=False)"
   ]
  },
  {
   "cell_type": "code",
   "execution_count": null,
   "metadata": {},
   "outputs": [],
   "source": []
  }
 ],
 "metadata": {
  "kernelspec": {
   "display_name": "pipelines-SBbPrTUj-py3.9",
   "language": "python",
   "name": "python3"
  },
  "language_info": {
   "codemirror_mode": {
    "name": "ipython",
    "version": 3
   },
   "file_extension": ".py",
   "mimetype": "text/x-python",
   "name": "python",
   "nbconvert_exporter": "python",
   "pygments_lexer": "ipython3",
   "version": "3.9.12"
  },
  "orig_nbformat": 4
 },
 "nbformat": 4,
 "nbformat_minor": 2
}
