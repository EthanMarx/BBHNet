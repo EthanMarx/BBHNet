{
 "cells": [
  {
   "cell_type": "code",
   "execution_count": 54,
   "id": "1b99cb18-b5a4-4c64-97a5-d8fcd49210cf",
   "metadata": {},
   "outputs": [],
   "source": [
    "from gwpy.segments import DataQualityDict, SegmentList, Segment\n",
    "import numpy as np"
   ]
  },
  {
   "cell_type": "code",
   "execution_count": 55,
   "id": "23f5458b-eb7c-419a-a73d-161fb6e62cb9",
   "metadata": {},
   "outputs": [
    {
     "data": {
      "text/plain": [
       "array([[ 0, 10],\n",
       "       [20, 30]])"
      ]
     },
     "execution_count": 55,
     "metadata": {},
     "output_type": "execute_result"
    }
   ],
   "source": [
    "np.array(SegmentList([Segment([0,10]), Segment([20,30])]))"
   ]
  },
  {
   "cell_type": "code",
   "execution_count": 41,
   "id": "aa4e4fa2-53fa-4abc-8d9c-5f19fce676eb",
   "metadata": {},
   "outputs": [],
   "source": [
    "import importlib\n",
    "import vetoes\n",
    "importlib.reload(vetoes)"
   ]
  },
  {
   "cell_type": "code",
   "execution_count": 42,
   "id": "82c3f3bd-26bd-4c29-a9dd-539dc617364c",
   "metadata": {},
   "outputs": [],
   "source": [
    "import os\n",
    "os.environ[\"X509_USER_PROXY\"] = \"/home/ethan.marx/cilogon_cert/CERT_KEY.pem\""
   ]
  },
  {
   "cell_type": "code",
   "execution_count": 43,
   "id": "44693f2f-5866-4ff4-a53a-65b3a30edaef",
   "metadata": {},
   "outputs": [],
   "source": [
    "ifos = [\"H1\", \"L1\"]\n",
    "start = 1262620622\n",
    "stop = 1262630622\n",
    "gate_paths = {\"H1\" : \"/home/ethan.marx/public_html/forks/BBHNet/projects/sandbox/vizapp/veto-definitions/cbc/O3/H1-O3_GATES_1238166018-31197600.txt\" , \"L1\" : \"/home/ethan.marx/public_html/forks/BBHNet/projects/sandbox/vizapp/veto-definitions/cbc/O3/L1-O3_GATES_1238166018-31197600.txt\"}\n",
    "veto_definer_file = \"/home/ethan.marx/public_html/forks/BBHNet/projects/sandbox/vizapp/veto-definitions/cbc/O3/H1L1-HOFT_C01_O3_CBC.xml\"\n",
    "vetoes.vetoe_parser = VetoeParser(\n",
    "    veto_definer_file,\n",
    "    gate_paths,\n",
    "    start,\n",
    "    stop,\n",
    "    ifos,\n",
    ")"
   ]
  },
  {
   "cell_type": "code",
   "execution_count": 44,
   "id": "e62d27bb-c4bc-4e65-9fd1-ab494ac789be",
   "metadata": {},
   "outputs": [
    {
     "ename": "TypeError",
     "evalue": "'int' object is not subscriptable",
     "output_type": "error",
     "traceback": [
      "\u001b[0;31m---------------------------------------------------------------------------\u001b[0m",
      "\u001b[0;31mKeyError\u001b[0m                                  Traceback (most recent call last)",
      "\u001b[0;32m~/public_html/forks/BBHNet/projects/sandbox/vizapp/vizapp/vetoes.py\u001b[0m in \u001b[0;36mget_vetoes\u001b[0;34m(self, category)\u001b[0m\n\u001b[1;32m     40\u001b[0m             \u001b[0mvetoes\u001b[0m \u001b[0;34m=\u001b[0m \u001b[0mself\u001b[0m\u001b[0;34m.\u001b[0m\u001b[0mvetoe_cache\u001b[0m\u001b[0;34m[\u001b[0m\u001b[0mcategory\u001b[0m\u001b[0;34m]\u001b[0m\u001b[0;34m\u001b[0m\u001b[0;34m\u001b[0m\u001b[0m\n\u001b[0;32m---> 41\u001b[0;31m         \u001b[0;32mexcept\u001b[0m \u001b[0mKeyError\u001b[0m\u001b[0;34m:\u001b[0m\u001b[0;34m\u001b[0m\u001b[0;34m\u001b[0m\u001b[0m\n\u001b[0m\u001b[1;32m     42\u001b[0m             \u001b[0mvetoes\u001b[0m \u001b[0;34m=\u001b[0m \u001b[0mself\u001b[0m\u001b[0;34m.\u001b[0m\u001b[0m_query_vetoes\u001b[0m\u001b[0;34m(\u001b[0m\u001b[0mcategory\u001b[0m\u001b[0;34m)\u001b[0m\u001b[0;34m\u001b[0m\u001b[0;34m\u001b[0m\u001b[0m\n",
      "\u001b[0;31mKeyError\u001b[0m: 'CAT1'",
      "\nDuring handling of the above exception, another exception occurred:\n",
      "\u001b[0;31mTypeError\u001b[0m                                 Traceback (most recent call last)",
      "\u001b[0;32m/local/ethan.marx/ipykernel_7216/1436775155.py\u001b[0m in \u001b[0;36m<module>\u001b[0;34m\u001b[0m\n\u001b[0;32m----> 1\u001b[0;31m \u001b[0mvetoe_parser\u001b[0m\u001b[0;34m.\u001b[0m\u001b[0mget_vetoes\u001b[0m\u001b[0;34m(\u001b[0m\u001b[0;34m\"CAT1\"\u001b[0m\u001b[0;34m)\u001b[0m\u001b[0;34m\u001b[0m\u001b[0;34m\u001b[0m\u001b[0m\n\u001b[0m",
      "\u001b[0;32m~/public_html/forks/BBHNet/projects/sandbox/vizapp/vizapp/vetoes.py\u001b[0m in \u001b[0;36mget_vetoes\u001b[0;34m(self, category)\u001b[0m\n\u001b[1;32m     41\u001b[0m         \u001b[0;32mexcept\u001b[0m \u001b[0mKeyError\u001b[0m\u001b[0;34m:\u001b[0m\u001b[0;34m\u001b[0m\u001b[0;34m\u001b[0m\u001b[0m\n\u001b[1;32m     42\u001b[0m             \u001b[0mvetoes\u001b[0m \u001b[0;34m=\u001b[0m \u001b[0mself\u001b[0m\u001b[0;34m.\u001b[0m\u001b[0m_query_vetoes\u001b[0m\u001b[0;34m(\u001b[0m\u001b[0mcategory\u001b[0m\u001b[0;34m)\u001b[0m\u001b[0;34m\u001b[0m\u001b[0;34m\u001b[0m\u001b[0m\n\u001b[0;32m---> 43\u001b[0;31m             \u001b[0mself\u001b[0m\u001b[0;34m.\u001b[0m\u001b[0mvetoe_cache\u001b[0m\u001b[0;34m[\u001b[0m\u001b[0mcategory\u001b[0m\u001b[0;34m]\u001b[0m\u001b[0;34m[\u001b[0m\u001b[0mifo\u001b[0m\u001b[0;34m]\u001b[0m \u001b[0;34m=\u001b[0m \u001b[0mvetoes\u001b[0m\u001b[0;34m\u001b[0m\u001b[0;34m\u001b[0m\u001b[0m\n\u001b[0m\u001b[1;32m     44\u001b[0m \u001b[0;34m\u001b[0m\u001b[0m\n\u001b[1;32m     45\u001b[0m         \u001b[0;32mreturn\u001b[0m \u001b[0mvetoes\u001b[0m\u001b[0;34m\u001b[0m\u001b[0;34m\u001b[0m\u001b[0m\n",
      "\u001b[0;32m~/public_html/forks/BBHNet/projects/sandbox/vizapp/vizapp/vetoes.py\u001b[0m in \u001b[0;36m_query_vetoes\u001b[0;34m(self, category)\u001b[0m\n\u001b[1;32m     52\u001b[0m                 \u001b[0mifo_vetoes\u001b[0m \u001b[0;34m=\u001b[0m \u001b[0mgates_to_veto_segments\u001b[0m\u001b[0;34m(\u001b[0m\u001b[0mself\u001b[0m\u001b[0;34m.\u001b[0m\u001b[0mgate_paths\u001b[0m\u001b[0;34m[\u001b[0m\u001b[0mifo\u001b[0m\u001b[0;34m]\u001b[0m\u001b[0;34m)\u001b[0m\u001b[0;34m\u001b[0m\u001b[0;34m\u001b[0m\u001b[0m\n\u001b[1;32m     53\u001b[0m             \u001b[0;32melse\u001b[0m\u001b[0;34m:\u001b[0m\u001b[0;34m\u001b[0m\u001b[0;34m\u001b[0m\u001b[0m\n\u001b[0;32m---> 54\u001b[0;31m                 \u001b[0mcat_numbera\u001b[0m \u001b[0;34m=\u001b[0m \u001b[0mint\u001b[0m\u001b[0;34m(\u001b[0m\u001b[0mcategory\u001b[0m\u001b[0;34m[\u001b[0m\u001b[0;34m-\u001b[0m\u001b[0;36m1\u001b[0m\u001b[0;34m]\u001b[0m\u001b[0;34m)\u001b[0m\u001b[0;34m\u001b[0m\u001b[0;34m\u001b[0m\u001b[0m\n\u001b[0m\u001b[1;32m     55\u001b[0m                 \u001b[0mifo_vetoes\u001b[0m \u001b[0;34m=\u001b[0m \u001b[0mDataQualityDict\u001b[0m\u001b[0;34m(\u001b[0m\u001b[0;34m{\u001b[0m\u001b[0mk\u001b[0m \u001b[0;34m:\u001b[0m \u001b[0mv\u001b[0m \u001b[0;32mfor\u001b[0m \u001b[0mk\u001b[0m\u001b[0;34m,\u001b[0m \u001b[0mv\u001b[0m \u001b[0;32min\u001b[0m \u001b[0mself\u001b[0m\u001b[0;34m.\u001b[0m\u001b[0mvetoes\u001b[0m\u001b[0;34m.\u001b[0m\u001b[0mitems\u001b[0m\u001b[0;34m(\u001b[0m\u001b[0;34m)\u001b[0m \u001b[0;32mif\u001b[0m \u001b[0mv\u001b[0m\u001b[0;34m.\u001b[0m\u001b[0mifo\u001b[0m \u001b[0;34m==\u001b[0m \u001b[0mifo\u001b[0m \u001b[0;32mand\u001b[0m \u001b[0mv\u001b[0m\u001b[0;34m.\u001b[0m\u001b[0mcategory\u001b[0m \u001b[0;34m==\u001b[0m \u001b[0mcat_number\u001b[0m\u001b[0;34m}\u001b[0m\u001b[0;34m)\u001b[0m\u001b[0;34m\u001b[0m\u001b[0;34m\u001b[0m\u001b[0m\n\u001b[1;32m     56\u001b[0m                 \u001b[0mifo_vetoes\u001b[0m \u001b[0;34m=\u001b[0m \u001b[0mifo_vetoes\u001b[0m\u001b[0;34m.\u001b[0m\u001b[0munion\u001b[0m\u001b[0;34m(\u001b[0m\u001b[0;34m)\u001b[0m\u001b[0;34m.\u001b[0m\u001b[0mknown\u001b[0m\u001b[0;34m\u001b[0m\u001b[0;34m\u001b[0m\u001b[0m\n",
      "\u001b[0;31mTypeError\u001b[0m: 'int' object is not subscriptable"
     ]
    }
   ],
   "source": [
    "vetoe_parser.get_vetoes(\"CAT1\")"
   ]
  },
  {
   "cell_type": "code",
   "execution_count": null,
   "id": "40234c58-ffbb-4a24-95a9-17755dc0ab7b",
   "metadata": {},
   "outputs": [],
   "source": []
  },
  {
   "cell_type": "code",
   "execution_count": null,
   "id": "5bb6d742-d678-4b80-836f-769032fefae3",
   "metadata": {},
   "outputs": [],
   "source": []
  }
 ],
 "metadata": {
  "kernelspec": {
   "display_name": "igwn-py37",
   "language": "python",
   "name": "igwn-py37"
  },
  "language_info": {
   "codemirror_mode": {
    "name": "ipython",
    "version": 3
   },
   "file_extension": ".py",
   "mimetype": "text/x-python",
   "name": "python",
   "nbconvert_exporter": "python",
   "pygments_lexer": "ipython3",
   "version": "3.7.12"
  }
 },
 "nbformat": 4,
 "nbformat_minor": 5
}
