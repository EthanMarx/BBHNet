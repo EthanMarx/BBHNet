{
 "cells": [
  {
   "cell_type": "code",
   "execution_count": 1,
   "metadata": {},
   "outputs": [
    {
     "name": "stderr",
     "output_type": "stream",
     "text": [
      "/home/ethan.marx/miniconda3/envs/bbhnet-datagen/lib/python3.9/site-packages/tqdm/auto.py:21: TqdmWarning: IProgress not found. Please update jupyter and ipywidgets. See https://ipywidgets.readthedocs.io/en/stable/user_install.html\n",
      "  from .autonotebook import tqdm as notebook_tqdm\n"
     ]
    }
   ],
   "source": [
    "from pathlib import Path\n",
    "import numpy as np\n",
    "import torch\n",
    "\n",
    "from bbhnet.architectures import Preprocessor, architecturize, ResNet\n",
    "from gwpy.timeseries import TimeSeriesDict\n",
    "from ml4gw.utils.slicing import unfold_windows\n",
    "import matplotlib.pyplot as plt"
   ]
  },
  {
   "cell_type": "code",
   "execution_count": 13,
   "metadata": {},
   "outputs": [],
   "source": [
    "def integrate(x: torch.Tensor, w: torch.Tensor) -> np.ndarray:\n",
    "    y = torch.nn.functional.conv1d(\n",
    "        x[None, None], w[None, None], padding=\"valid\"\n",
    "    )\n",
    "    return y[0, 0].detach().numpy()"
   ]
  },
  {
   "cell_type": "code",
   "execution_count": 4,
   "metadata": {},
   "outputs": [],
   "source": [
    "channels = ['H1:GDS-CALIB_STRAIN', 'L1:GDS-CALIB_STRAIN']\n",
    "event_time = 1367030137\n",
    "sample_rate = 2048\n",
    "inference_sampling_rate = 16\n",
    "kernel_length = 2\n",
    "kernel_size = int(kernel_length * sample_rate)\n",
    "stride = int(sample_rate / inference_sampling_rate)\n",
    "integration_window_length = 1"
   ]
  },
  {
   "cell_type": "code",
   "execution_count": 5,
   "metadata": {},
   "outputs": [],
   "source": [
    "integrator_size = int(integration_window_length * inference_sampling_rate)\n",
    "integrator = torch.ones((integrator_size,)) / integrator_size"
   ]
  },
  {
   "cell_type": "code",
   "execution_count": 6,
   "metadata": {},
   "outputs": [],
   "source": [
    "outdir = Path(\"/home/ethan.marx/bbhnet/online-experiment\")\n",
    "weights_path = outdir / \"training\" / \"weights.pt\"\n",
    "fduration = 1"
   ]
  },
  {
   "cell_type": "code",
   "execution_count": 7,
   "metadata": {},
   "outputs": [],
   "source": [
    "nn = ResNet(\n",
    "    2, layers = [2, 2, 2, 2], norm_groups = 8\n",
    ")"
   ]
  },
  {
   "cell_type": "code",
   "execution_count": 8,
   "metadata": {},
   "outputs": [
    {
     "data": {
      "text/plain": [
       "Sequential(\n",
       "  (0): Preprocessor(\n",
       "    (whitener): Whitening(\n",
       "      (conv_op): _Conv1d()\n",
       "    )\n",
       "  )\n",
       "  (1): ResNet(\n",
       "    (conv1): Conv1d(2, 64, kernel_size=(7,), stride=(2,), padding=(3,), bias=False)\n",
       "    (bn1): GroupNorm()\n",
       "    (relu): ReLU(inplace=True)\n",
       "    (maxpool): MaxPool1d(kernel_size=3, stride=2, padding=1, dilation=1, ceil_mode=False)\n",
       "    (residual_layers): ModuleList(\n",
       "      (0): Sequential(\n",
       "        (0): BasicBlock(\n",
       "          (conv1): Conv1d(64, 64, kernel_size=(3,), stride=(1,), padding=(1,), bias=False)\n",
       "          (bn1): GroupNorm()\n",
       "          (relu): ReLU(inplace=True)\n",
       "          (conv2): Conv1d(64, 64, kernel_size=(3,), stride=(1,), padding=(1,), bias=False)\n",
       "          (bn2): GroupNorm()\n",
       "        )\n",
       "        (1): BasicBlock(\n",
       "          (conv1): Conv1d(64, 64, kernel_size=(3,), stride=(1,), padding=(1,), bias=False)\n",
       "          (bn1): GroupNorm()\n",
       "          (relu): ReLU(inplace=True)\n",
       "          (conv2): Conv1d(64, 64, kernel_size=(3,), stride=(1,), padding=(1,), bias=False)\n",
       "          (bn2): GroupNorm()\n",
       "        )\n",
       "      )\n",
       "      (1): Sequential(\n",
       "        (0): BasicBlock(\n",
       "          (conv1): Conv1d(64, 128, kernel_size=(3,), stride=(2,), padding=(1,), bias=False)\n",
       "          (bn1): GroupNorm()\n",
       "          (relu): ReLU(inplace=True)\n",
       "          (conv2): Conv1d(128, 128, kernel_size=(3,), stride=(1,), padding=(1,), bias=False)\n",
       "          (bn2): GroupNorm()\n",
       "          (downsample): Sequential(\n",
       "            (0): Conv1d(64, 128, kernel_size=(1,), stride=(2,), bias=False)\n",
       "            (1): GroupNorm()\n",
       "          )\n",
       "        )\n",
       "        (1): BasicBlock(\n",
       "          (conv1): Conv1d(128, 128, kernel_size=(3,), stride=(1,), padding=(1,), bias=False)\n",
       "          (bn1): GroupNorm()\n",
       "          (relu): ReLU(inplace=True)\n",
       "          (conv2): Conv1d(128, 128, kernel_size=(3,), stride=(1,), padding=(1,), bias=False)\n",
       "          (bn2): GroupNorm()\n",
       "        )\n",
       "      )\n",
       "      (2): Sequential(\n",
       "        (0): BasicBlock(\n",
       "          (conv1): Conv1d(128, 256, kernel_size=(3,), stride=(2,), padding=(1,), bias=False)\n",
       "          (bn1): GroupNorm()\n",
       "          (relu): ReLU(inplace=True)\n",
       "          (conv2): Conv1d(256, 256, kernel_size=(3,), stride=(1,), padding=(1,), bias=False)\n",
       "          (bn2): GroupNorm()\n",
       "          (downsample): Sequential(\n",
       "            (0): Conv1d(128, 256, kernel_size=(1,), stride=(2,), bias=False)\n",
       "            (1): GroupNorm()\n",
       "          )\n",
       "        )\n",
       "        (1): BasicBlock(\n",
       "          (conv1): Conv1d(256, 256, kernel_size=(3,), stride=(1,), padding=(1,), bias=False)\n",
       "          (bn1): GroupNorm()\n",
       "          (relu): ReLU(inplace=True)\n",
       "          (conv2): Conv1d(256, 256, kernel_size=(3,), stride=(1,), padding=(1,), bias=False)\n",
       "          (bn2): GroupNorm()\n",
       "        )\n",
       "      )\n",
       "      (3): Sequential(\n",
       "        (0): BasicBlock(\n",
       "          (conv1): Conv1d(256, 512, kernel_size=(3,), stride=(2,), padding=(1,), bias=False)\n",
       "          (bn1): GroupNorm()\n",
       "          (relu): ReLU(inplace=True)\n",
       "          (conv2): Conv1d(512, 512, kernel_size=(3,), stride=(1,), padding=(1,), bias=False)\n",
       "          (bn2): GroupNorm()\n",
       "          (downsample): Sequential(\n",
       "            (0): Conv1d(256, 512, kernel_size=(1,), stride=(2,), bias=False)\n",
       "            (1): GroupNorm()\n",
       "          )\n",
       "        )\n",
       "        (1): BasicBlock(\n",
       "          (conv1): Conv1d(512, 512, kernel_size=(3,), stride=(1,), padding=(1,), bias=False)\n",
       "          (bn1): GroupNorm()\n",
       "          (relu): ReLU(inplace=True)\n",
       "          (conv2): Conv1d(512, 512, kernel_size=(3,), stride=(1,), padding=(1,), bias=False)\n",
       "          (bn2): GroupNorm()\n",
       "        )\n",
       "      )\n",
       "    )\n",
       "    (avgpool): AdaptiveAvgPool1d(output_size=1)\n",
       "    (fc): Linear(in_features=512, out_features=1, bias=True)\n",
       "  )\n",
       ")"
      ]
     },
     "execution_count": 8,
     "metadata": {},
     "output_type": "execute_result"
    }
   ],
   "source": [
    "ifos = [\"H1\", \"L1\"]\n",
    "num_ifos = len(ifos)\n",
    "\n",
    "preprocessor = Preprocessor(num_ifos, sample_rate, fduration=fduration)\n",
    "model = torch.nn.Sequential(preprocessor, nn)\n",
    "\n",
    "weights = torch.load(weights_path, map_location=torch.device('cpu') )\n",
    "model.load_state_dict(weights)\n",
    "model.eval()"
   ]
  },
  {
   "cell_type": "code",
   "execution_count": 9,
   "metadata": {},
   "outputs": [
    {
     "name": "stderr",
     "output_type": "stream",
     "text": [
      "/home/ethan.marx/miniconda3/envs/bbhnet-datagen/lib/python3.9/site-packages/gwpy/timeseries/core.py:1128: NDSWarning: unique NDS2 channel match not found for 'H1:GDS-CALIB_STRAIN'\n",
      "  warnings.warn(error.split('\\n', 1)[0],\n"
     ]
    }
   ],
   "source": [
    "data = TimeSeriesDict.fetch(channels, event_time - 4, event_time + 4).resample(sample_rate)"
   ]
  },
  {
   "cell_type": "code",
   "execution_count": 10,
   "metadata": {},
   "outputs": [
    {
     "name": "stderr",
     "output_type": "stream",
     "text": [
      "/home/ethan.marx/miniconda3/envs/bbhnet-datagen/lib/python3.9/site-packages/IPython/core/interactiveshell.py:3445: FutureWarning: arrays to stack must be passed as a \"sequence\" type such as list or tuple. Support for non-sequence iterables such as generators is deprecated as of NumPy 1.16 and will raise an error in the future.\n",
      "  if await self.run_code(code, result, async_=asy):\n"
     ]
    }
   ],
   "source": [
    "stacked = np.stack(data.values()).value"
   ]
  },
  {
   "cell_type": "code",
   "execution_count": 11,
   "metadata": {},
   "outputs": [],
   "source": [
    "stacked = torch.Tensor(stacked)"
   ]
  },
  {
   "cell_type": "code",
   "execution_count": 29,
   "metadata": {},
   "outputs": [
    {
     "ename": "AttributeError",
     "evalue": "'numpy.ndarray' object has no attribute 'value'",
     "output_type": "error",
     "traceback": [
      "\u001b[0;31m---------------------------------------------------------------------------\u001b[0m",
      "\u001b[0;31mAttributeError\u001b[0m                            Traceback (most recent call last)",
      "Cell \u001b[0;32mIn[29], line 1\u001b[0m\n\u001b[0;32m----> 1\u001b[0m data \u001b[39m=\u001b[39m np\u001b[39m.\u001b[39;49mstack(data)\u001b[39m.\u001b[39;49mvalue\n",
      "\u001b[0;31mAttributeError\u001b[0m: 'numpy.ndarray' object has no attribute 'value'"
     ]
    }
   ],
   "source": [
    "data = np.stack(data).value"
   ]
  },
  {
   "cell_type": "code",
   "execution_count": 14,
   "metadata": {},
   "outputs": [],
   "source": [
    "batch = unfold_windows(stacked, kernel_size, stride)\n",
    "y = model(batch)[:, 0]\n",
    "integrated = integrate(y, integrator)"
   ]
  },
  {
   "cell_type": "code",
   "execution_count": 15,
   "metadata": {},
   "outputs": [
    {
     "data": {
      "text/plain": [
       "8.873853"
      ]
     },
     "execution_count": 15,
     "metadata": {},
     "output_type": "execute_result"
    }
   ],
   "source": [
    "max(integrated)"
   ]
  },
  {
   "cell_type": "code",
   "execution_count": 18,
   "metadata": {},
   "outputs": [
    {
     "ename": "AttributeError",
     "evalue": "'list' object has no attribute 'save'",
     "output_type": "error",
     "traceback": [
      "\u001b[0;31m---------------------------------------------------------------------------\u001b[0m",
      "\u001b[0;31mAttributeError\u001b[0m                            Traceback (most recent call last)",
      "Cell \u001b[0;32mIn[18], line 2\u001b[0m\n\u001b[1;32m      1\u001b[0m fig \u001b[39m=\u001b[39m plt\u001b[39m.\u001b[39mplot(integrated)\n\u001b[0;32m----> 2\u001b[0m fig\u001b[39m.\u001b[39;49msave(\u001b[39m\"\u001b[39m\u001b[39mtest.png\u001b[39m\u001b[39m\"\u001b[39m)\n",
      "\u001b[0;31mAttributeError\u001b[0m: 'list' object has no attribute 'save'"
     ]
    },
    {
     "data": {
      "image/png": "[encoded data removed]",
      "text/plain": [
       "<Figure size 640x480 with 1 Axes>"
      ]
     },
     "metadata": {},
     "output_type": "display_data"
    }
   ],
   "source": [
    "fig = plt.plot(integrated)\n",
    "fig.save(\"test.png\")"
   ]
  },
  {
   "cell_type": "code",
   "execution_count": 50,
   "metadata": {},
   "outputs": [
    {
     "data": {
      "text/plain": [
       "4096"
      ]
     },
     "execution_count": 50,
     "metadata": {},
     "output_type": "execute_result"
    }
   ],
   "source": [
    "kernel_size"
   ]
  },
  {
   "cell_type": "code",
   "execution_count": null,
   "metadata": {},
   "outputs": [],
   "source": []
  }
 ],
 "metadata": {
  "kernelspec": {
   "display_name": "Python 3.9.16 ('bbhnet-datagen')",
   "language": "python",
   "name": "python3"
  },
  "language_info": {
   "codemirror_mode": {
    "name": "ipython",
    "version": 3
   },
   "file_extension": ".py",
   "mimetype": "text/x-python",
   "name": "python",
   "nbconvert_exporter": "python",
   "pygments_lexer": "ipython3",
   "version": "3.9.16"
  },
  "orig_nbformat": 4,
  "vscode": {
   "interpreter": {
    "hash": "7f78978bbdffe787c135343158323dd519c308b44e7681a9c1548d17422a3fcf"
   }
  }
 },
 "nbformat": 4,
 "nbformat_minor": 2
}
